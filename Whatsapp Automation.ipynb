{
 "cells": [
  {
   "cell_type": "markdown",
   "metadata": {},
   "source": [
    "### Basics"
   ]
  },
  {
   "cell_type": "code",
   "execution_count": 1,
   "metadata": {},
   "outputs": [],
   "source": [
    "from selenium import webdriver\n",
    "browser = webdriver.Chrome(\"C:/chromedriver\")\n",
    "browser.get(\"https://www.google.com/\")"
   ]
  },
  {
   "cell_type": "code",
   "execution_count": 13,
   "metadata": {},
   "outputs": [],
   "source": [
    "gmail = browser.find_element_by_link_text(\"Gmail\")"
   ]
  },
  {
   "cell_type": "code",
   "execution_count": 14,
   "metadata": {},
   "outputs": [],
   "source": [
    "gmail.click()"
   ]
  },
  {
   "cell_type": "code",
   "execution_count": 2,
   "metadata": {},
   "outputs": [],
   "source": [
    "from selenium.webdriver.common.keys import Keys\n",
    "search = browser.find_element_by_xpath(\"/html/body/div[1]/div[3]/form/div[2]/div[1]/div[1]/div/div[2]/input\")\n",
    "search.send_keys(\"GOOGLE\",Keys.ENTER)"
   ]
  },
  {
   "cell_type": "markdown",
   "metadata": {},
   "source": [
    "### whatsapp automation"
   ]
  },
  {
   "cell_type": "markdown",
   "metadata": {},
   "source": [
    "#### sending text message"
   ]
  },
  {
   "cell_type": "code",
   "execution_count": 1,
   "metadata": {},
   "outputs": [],
   "source": [
    "from selenium import webdriver\n",
    "from selenium.webdriver.support import expected_conditions as EC\n",
    "from selenium.webdriver.support.ui import WebDriverWait\n",
    "from selenium.webdriver.common.keys import Keys\n",
    "from selenium.webdriver.common.by import By\n",
    "from time import sleep"
   ]
  },
  {
   "cell_type": "code",
   "execution_count": 2,
   "metadata": {},
   "outputs": [],
   "source": [
    "browser = webdriver.Chrome(\"C:/chromedriver\")\n",
    "browser.get(\"https://web.whatsapp.com/\")"
   ]
  },
  {
   "cell_type": "code",
   "execution_count": 3,
   "metadata": {},
   "outputs": [],
   "source": [
    "wait = WebDriverWait(browser,600)\n",
    "target = '\"CODE BREAKERS\"'\n",
    "path = '//span[contains(@title,'+target+')]'\n",
    "ftarget = wait.until(EC.presence_of_element_located((By.XPATH,path)))\n",
    "ftarget.click()\n"
   ]
  },
  {
   "cell_type": "code",
   "execution_count": 4,
   "metadata": {},
   "outputs": [],
   "source": [
    "input_whatsapp = browser.find_element_by_class_name(\"_1Plpp\")"
   ]
  },
  {
   "cell_type": "code",
   "execution_count": 10,
   "metadata": {},
   "outputs": [],
   "source": [
    "input_whatsapp.send_keys(\"Hello\",Keys.ENTER)"
   ]
  },
  {
   "cell_type": "code",
   "execution_count": 11,
   "metadata": {},
   "outputs": [],
   "source": [
    "for i in range(50):\n",
    "    input_whatsapp.send_keys(\"Hello from Sankalp to Code Breakers using python\",Keys.ENTER)"
   ]
  },
  {
   "cell_type": "code",
   "execution_count": 4,
   "metadata": {},
   "outputs": [],
   "source": [
    "def sentmessage(target,n,message):\n",
    "    target = f'\"{target}\"'\n",
    "    wait = WebDriverWait(browser,600)\n",
    "    path = '//span[contains(@title,'+target+')]'\n",
    "    ftarget = wait.until(EC.presence_of_element_located((By.XPATH,path)))\n",
    "    ftarget.click()\n",
    "    sleep(3)\n",
    "    input_whatsapp = browser.find_element_by_class_name(\"_1Plpp\")\n",
    "    for i in range(n):\n",
    "        input_whatsapp.send_keys(message,Keys.ENTER)"
   ]
  },
  {
   "cell_type": "code",
   "execution_count": 4,
   "metadata": {},
   "outputs": [
    {
     "name": "stdout",
     "output_type": "stream",
     "text": [
      "Enter Name of your friend: CODE BREAKERS\n",
      "enter message : hello\n",
      "enter number of times you want to send a message : 10\n"
     ]
    }
   ],
   "source": [
    "target = input(\"Enter Name of your friend: \")\n",
    "message = input(\"enter message : \")\n",
    "n = int(input(\"enter number of times you want to send a message : \"))\n",
    "sentmessage(target,n,message)"
   ]
  },
  {
   "cell_type": "code",
   "execution_count": 5,
   "metadata": {},
   "outputs": [],
   "source": [
    "attach = browser.find_element_by_xpath('//div[@title = \"Attach\"]')"
   ]
  },
  {
   "cell_type": "code",
   "execution_count": 8,
   "metadata": {},
   "outputs": [],
   "source": [
    "attach.click()"
   ]
  },
  {
   "cell_type": "code",
   "execution_count": 10,
   "metadata": {},
   "outputs": [],
   "source": [
    "image_path = \"C:/Users/sankalp/Desktop/python.png\""
   ]
  },
  {
   "cell_type": "code",
   "execution_count": 11,
   "metadata": {},
   "outputs": [],
   "source": [
    "media = browser.find_element_by_xpath('//input[@accept = \"image/*,video/mp4,video/3gpp,video/quicktime\" ]')\n"
   ]
  },
  {
   "cell_type": "code",
   "execution_count": 12,
   "metadata": {},
   "outputs": [],
   "source": [
    "media.send_keys(image_path)"
   ]
  },
  {
   "cell_type": "code",
   "execution_count": 13,
   "metadata": {},
   "outputs": [],
   "source": [
    "sleep(3)\n",
    "send_btn = browser.find_element_by_xpath('//span[@data-icon=\"send-light\"]')"
   ]
  },
  {
   "cell_type": "code",
   "execution_count": 14,
   "metadata": {},
   "outputs": [],
   "source": [
    "send_btn.click()"
   ]
  },
  {
   "cell_type": "code",
   "execution_count": 2,
   "metadata": {},
   "outputs": [
    {
     "name": "stdout",
     "output_type": "stream",
     "text": [
      "<_io.TextIOWrapper name='C:\\\\Users\\\\sankalp\\\\Desktop\\\\python.png' mode='r' encoding='cp1252'>\n"
     ]
    }
   ],
   "source": [
    "import sys\n",
    "import os\n",
    "# file_path = input(\"Enter file path: \")\n",
    "assert os.path.exists(file_path),\"Path error\"\n",
    "file = open(file_path)\n",
    "print(file)"
   ]
  },
  {
   "cell_type": "code",
   "execution_count": 20,
   "metadata": {},
   "outputs": [
    {
     "data": {
      "text/plain": [
       "'C:\\\\Users\\\\sankalp\\\\Desktop\\\\python.png'"
      ]
     },
     "execution_count": 20,
     "metadata": {},
     "output_type": "execute_result"
    }
   ],
   "source": [
    "file.name"
   ]
  },
  {
   "cell_type": "code",
   "execution_count": 21,
   "metadata": {},
   "outputs": [],
   "source": [
    "def sendmedia(target,file_path,n):\n",
    "    target = f'\"{target}\"'\n",
    "    wait = WebDriverWait(browser,600)\n",
    "    path = '//span[contains(@title,'+target+')]'\n",
    "    ftarget = wait.until(EC.presence_of_element_located((By.XPATH,path)))\n",
    "    ftarget.click()\n",
    "    for i in range(n):\n",
    "        sleep(6)\n",
    "        attach = browser.find_element_by_xpath('//div[@title = \"Attach\"]')\n",
    "        attach.click()\n",
    "        media = browser.find_element_by_xpath('//input[@accept = \"image/*,video/mp4,video/3gpp,video/quicktime\" ]')\n",
    "        media.send_keys(file_path)\n",
    "        sleep(3)\n",
    "        send_btn = browser.find_element_by_xpath('//span[@data-icon=\"send-light\"]')\n",
    "        send_btn.click()"
   ]
  },
  {
   "cell_type": "code",
   "execution_count": 22,
   "metadata": {},
   "outputs": [
    {
     "name": "stdout",
     "output_type": "stream",
     "text": [
      "Enter Name of your friend: CODE BREAKERS\n",
      "Enter file path: C:\\Users\\sankalp\\Desktop\\python.png\n",
      "enter number of times you want to send a message : 5\n"
     ]
    }
   ],
   "source": [
    "target = input(\"Enter Name of your friend: \")\n",
    "file_path = input(\"Enter file path: \")\n",
    "n = int(input(\"enter number of times you want to send this message : \"))\n",
    "assert os.path.exists(file_path),\"Path error\"\n",
    "file = open(file_path)\n",
    "sendmedia(target,file.name,n)\n",
    "\n"
   ]
  },
  {
   "cell_type": "code",
   "execution_count": 3,
   "metadata": {},
   "outputs": [
    {
     "name": "stdout",
     "output_type": "stream",
     "text": [
      "scan the qr code to open whatsapp\n",
      "Do you want to send the message:(y/n) y\n",
      "Enter Name of your friend: CODE BREAKERS\n",
      "enter message : hello\n",
      "enter number of times you want to send a message : 50\n",
      "Do you want to send the media file: (y/n) y\n",
      "Enter Name of your friend: CODE BREAKERS\n",
      "Enter file path: C:\\Users\\sankalp\\Desktop\\python.png\n",
      "enter number of times you want to send this message : 10\n"
     ]
    }
   ],
   "source": [
    "from selenium import webdriver\n",
    "from selenium.webdriver.support import expected_conditions as EC\n",
    "from selenium.webdriver.support.ui import WebDriverWait\n",
    "from selenium.webdriver.common.keys import Keys\n",
    "from selenium.webdriver.common.by import By\n",
    "from time import sleep\n",
    "import os\n",
    "\n",
    "def sentmessage(target,n,message):\n",
    "    target = f'\"{target}\"'\n",
    "    wait = WebDriverWait(browser,600)\n",
    "    path = '//span[contains(@title,'+target+')]'\n",
    "    ftarget = wait.until(EC.presence_of_element_located((By.XPATH,path)))\n",
    "    ftarget.click()\n",
    "    sleep(3)\n",
    "    input_whatsapp = browser.find_element_by_class_name(\"_1Plpp\")\n",
    "    for i in range(n):\n",
    "        input_whatsapp.send_keys(message,Keys.ENTER)\n",
    "\n",
    "        \n",
    "def sendmedia(target,file_path,n):\n",
    "    target = f'\"{target}\"'\n",
    "    wait = WebDriverWait(browser,600)\n",
    "    path = '//span[contains(@title,'+target+')]'\n",
    "    ftarget = wait.until(EC.presence_of_element_located((By.XPATH,path)))\n",
    "    ftarget.click()\n",
    "    for i in range(n):\n",
    "        sleep(3)\n",
    "        attach = browser.find_element_by_xpath('//div[@title = \"Attach\"]')\n",
    "        attach.click()\n",
    "        media = browser.find_element_by_xpath('//input[@accept = \"image/*,video/mp4,video/3gpp,video/quicktime\" ]')\n",
    "        media.send_keys(file_path)\n",
    "        sleep(3)\n",
    "        send_btn = browser.find_element_by_xpath('//span[@data-icon=\"send-light\"]')\n",
    "        send_btn.click()\n",
    "\n",
    "        \n",
    "browser = webdriver.Chrome(\"C:/chromedriver\")\n",
    "browser.get(\"https://web.whatsapp.com/\")\n",
    "print(\"scan the qr code to open whatsapp\")\n",
    "choice1 = input(\"Do you want to send the message:(y/n) \")\n",
    "if choice1 == 'y' or choice1 == 'Y':\n",
    "    target = input(\"Enter Name of your friend: \")\n",
    "    message = input(\"enter message : \")\n",
    "    n = int(input(\"enter number of times you want to send a message : \"))\n",
    "    sentmessage(target,n,message)\n",
    "\n",
    "choice2 = input(\"Do you want to send the media file: (y/n) \")\n",
    "if choice2 == 'y'or choice2 =='Y':\n",
    "    target = input(\"Enter Name of your friend: \")\n",
    "    file_path = input(\"Enter file path: \")\n",
    "    n = int(input(\"enter number of times you want to send this message : \"))\n",
    "    assert os.path.exists(file_path),\"Path error\"\n",
    "    file = open(file_path)\n",
    "    sendmedia(target,file.name,n)"
   ]
  },
  {
   "cell_type": "code",
   "execution_count": null,
   "metadata": {},
   "outputs": [],
   "source": []
  }
 ],
 "metadata": {
  "kernelspec": {
   "display_name": "Python 3",
   "language": "python",
   "name": "python3"
  },
  "language_info": {
   "codemirror_mode": {
    "name": "ipython",
    "version": 3
   },
   "file_extension": ".py",
   "mimetype": "text/x-python",
   "name": "python",
   "nbconvert_exporter": "python",
   "pygments_lexer": "ipython3",
   "version": "3.7.4"
  }
 },
 "nbformat": 4,
 "nbformat_minor": 4
}
